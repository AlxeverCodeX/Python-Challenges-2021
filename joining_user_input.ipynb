{
  "nbformat": 4,
  "nbformat_minor": 0,
  "metadata": {
    "colab": {
      "name": "Learning.ipynb",
      "provenance": [],
      "authorship_tag": "ABX9TyP1hpRiCjvsuh4kmvRO2KGf",
      "include_colab_link": true
    },
    "kernelspec": {
      "name": "python3",
      "display_name": "Python 3"
    }
  },
  "cells": [
    {
      "cell_type": "markdown",
      "metadata": {
        "id": "view-in-github",
        "colab_type": "text"
      },
      "source": [
        "<a href=\"https://colab.research.google.com/github/AlxeverCodeX/Python-Challenges-2021/blob/main/joining_user_input.ipynb\" target=\"_parent\"><img src=\"https://colab.research.google.com/assets/colab-badge.svg\" alt=\"Open In Colab\"/></a>"
      ]
    },
    {
      "cell_type": "code",
      "metadata": {
        "colab": {
          "base_uri": "https://localhost:8080/"
        },
        "id": "xsPItFYDY3u7",
        "outputId": "283c6109-d732-4279-b991-0bcc44a1c6c4"
      },
      "source": [
        "first = input('what is your number one favourite food? ')\r\n",
        "second = input('what is your number two favourite food? ')\r\n",
        "print (first +  second)"
      ],
      "execution_count": 6,
      "outputs": [
        {
          "output_type": "stream",
          "text": [
            "what is your number one favourite food? gg\n",
            "what is your number two favourite food? gfg\n",
            "gggfg\n"
          ],
          "name": "stdout"
        }
      ]
    },
    {
      "cell_type": "code",
      "metadata": {
        "id": "nWNbF5vogwjx"
      },
      "source": [
        ""
      ],
      "execution_count": null,
      "outputs": []
    }
  ]
}