{
  "nbformat": 4,
  "nbformat_minor": 0,
  "metadata": {
    "colab": {
      "name": "Learning.ipynb",
      "provenance": [],
      "authorship_tag": "ABX9TyMybdDxTZlFXCELdMoQqPfd",
      "include_colab_link": true
    },
    "kernelspec": {
      "name": "python3",
      "display_name": "Python 3"
    }
  },
  "cells": [
    {
      "cell_type": "markdown",
      "metadata": {
        "id": "view-in-github",
        "colab_type": "text"
      },
      "source": [
        "<a href=\"https://colab.research.google.com/github/AlxeverCodeX/Python-Challenges-2021/blob/main/Tipper_Program.ipynb\" target=\"_parent\"><img src=\"https://colab.research.google.com/assets/colab-badge.svg\" alt=\"Open In Colab\"/></a>"
      ]
    },
    {
      "cell_type": "code",
      "metadata": {
        "id": "av4Wj1TWrg-o",
        "colab": {
          "base_uri": "https://localhost:8080/",
          "height": 188
        },
        "outputId": "49f5534f-29bc-413f-87e2-8e3fe61affe1"
      },
      "source": [
        "\"\"\"Write a Tipper program where the user enters a restaurant\r\n",
        "bill total. The program should then display two amounts: a\r\n",
        "15 percent tip and a 20 percent tip.\"\"\"\r\n",
        "\r\n",
        "#Program\r\n",
        "\r\n",
        "print(\"The Tipper program\\n\")\r\n",
        "\r\n",
        "# Inputing the amount without a tip\r\n",
        "bill= int(input(\"The total bills amount: \"))\r\n",
        "\r\n",
        "# caculating the tip\r\n",
        "total_20 = (bill * 0.20) + bill\r\n",
        "total_15 = (bill * 0.15) + bill\r\n",
        "\r\n",
        "# Show the user the bill\r\n",
        "print(\"The bill came to: naira\", total_20, \" with a 20% tip\\n and \\nThe bill came to: naira\",\r\n",
        "      total_15, \" with a 15% tip\")\r\n",
        "\r\n",
        "input(\"\\n\\nPress enter key to exit\")"
      ],
      "execution_count": 13,
      "outputs": [
        {
          "output_type": "stream",
          "text": [
            "The Tipper program\n",
            "\n",
            "The total bills amount: 7\n",
            "The bill came to: naira 8.4  with a 20% tip\n",
            " and \n",
            "The bill came to: naira 8.05  with a 15% tip\n",
            "\n",
            "\n",
            "Press enter key to exit\n"
          ],
          "name": "stdout"
        },
        {
          "output_type": "execute_result",
          "data": {
            "application/vnd.google.colaboratory.intrinsic+json": {
              "type": "string"
            },
            "text/plain": [
              "''"
            ]
          },
          "metadata": {
            "tags": []
          },
          "execution_count": 13
        }
      ]
    },
    {
      "cell_type": "code",
      "metadata": {
        "id": "r3KqtvMys3cW"
      },
      "source": [
        ""
      ],
      "execution_count": null,
      "outputs": []
    }
  ]
}